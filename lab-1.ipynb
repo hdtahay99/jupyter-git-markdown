{
 "cells": [
  {
   "cell_type": "markdown",
   "metadata": {},
   "source": [
    "# Sistema de control de versiones, GIT"
   ]
  },
  {
   "cell_type": "markdown",
   "metadata": {},
   "source": [
    "Son herramientas que ayudan a mantener un historial de cambios del código fuente, asimismo facilitan la colaboración de trabajo en equipo."
   ]
  },
  {
   "cell_type": "markdown",
   "metadata": {},
   "source": [
    "La razón del por cuál son muy útiles actualmente, es porque permiten responder fácilmente a preguntas como:\n",
    "\n",
    "1. ¿Quién escribió este módulo?\n",
    "2. ¿Cuándo se editó tal línea de código en este archivo? ¿Por quién? ¿Por qué?\n",
    "3. ¿Podemos cargar los archivos de código de este módulo cuando aún no se había desactivado?\n",
    "\n",
    "En la actualidad, __GIT__ es el estándar por defecto para el control de versiones."
   ]
  },
  {
   "cell_type": "markdown",
   "metadata": {},
   "source": [
    "## Modelos de datos en GIT"
   ]
  },
  {
   "cell_type": "markdown",
   "metadata": {},
   "source": [
    "#### Snapshots"
   ]
  },
  {
   "cell_type": "markdown",
   "metadata": {},
   "source": [
    "Git para modelar una colección de archivos y carpetas, lo realiza en un nivel superior como una serie de _snapshots_. \n",
    "\n",
    "Es decir, para Git, un archivo es un \"_blob_\" (bytes); y un directorio es un \"_tree_\" que a su vez podría contener más _blobs_ o _trees_.\n",
    "\n",
    "Por lo tanto un _snapshot_ es un _tree_ de nivel superior que se está rastreando."
   ]
  },
  {
   "cell_type": "markdown",
   "metadata": {},
   "source": [
    "#### Historial de modelado"
   ]
  },
  {
   "cell_type": "markdown",
   "metadata": {},
   "source": [
    "Un historial en Git, es un gráfico acíclico dirigido (DAG) de _snapshots_. Esto significa que cada _snapshot_ en Git se refiere a un conjunto de \"_parents_\", porque pueden descender de varios _parents_, por ejemplo, debido al _merge_ de dos _branches_ paralelas de desarrollo.\n",
    "\n",
    "La siguiente imagen, ilustra el concepto de un gráfico acíclico dirigido:\n",
    "\n",
    "![History snapshots](https://lh3.googleusercontent.com/-Txa_6CEnwuc/VmP4jONPIYI/AAAAAAAAB0o/Hjt91A7_1uo/s400-Ic42/pic1.jpg)\n",
    "\n"
   ]
  },
  {
   "cell_type": "markdown",
   "metadata": {},
   "source": [
    "Cada uno de los círculos que se puede apreciar en la imagen, son los llamados \"_commit_\" (que internamente son _snapshots_), en Git un _commit_ es inmutable, pero no significa que los errores no se puedan corregir, debido a que las ediciones del historial de _commits_ solo están creando _commits_ nuevos y referenciados."
   ]
  },
  {
   "cell_type": "markdown",
   "metadata": {},
   "source": [
    "#### Objetos y direccionamiento de contenido"
   ]
  },
  {
   "cell_type": "markdown",
   "metadata": {},
   "source": [
    "Un objeto es un _blob_, _tree_ o un _commit_, debido a que en el almacén de datos de Git, todos los objetos se direccionan por contenido mediante su hash SHA-1.\n",
    "\n",
    "En otras palabras, un _blob_, _tree_ y _commit_ se unifican de esa manera, todos son objetos. Cuando se referencian a otros objetos, lo hacen a través de su hash."
   ]
  },
  {
   "cell_type": "markdown",
   "metadata": {},
   "source": [
    "#### Referencias"
   ]
  },
  {
   "cell_type": "markdown",
   "metadata": {},
   "source": [
    "Para identificar un _snapshot_ por su hash SHA-1 sería un inconveniente para lectura humana, por lo que las \"referencias\" son indicadores de _commits_, debido a que estas mismas se pueden actualizar para señalar un nuevo _commit_ en el historial del código.\n",
    "\n",
    "Por ejemplo, en Git, para responder a la pregunta ¿dónde estamos actualmente?, la __referencia__ especial se llama \"_HEAD_\"."
   ]
  },
  {
   "cell_type": "markdown",
   "metadata": {},
   "source": [
    "#### Repositorios"
   ]
  },
  {
   "cell_type": "markdown",
   "metadata": {},
   "source": [
    "Un repositorio de Git, se puede definir como objetos y referencias; que por tanto, conformar lo que hay en el modelo de datos de Git."
   ]
  },
  {
   "cell_type": "markdown",
   "metadata": {},
   "source": [
    "#### Área de ensayo"
   ]
  },
  {
   "cell_type": "markdown",
   "metadata": {},
   "source": [
    "El área de ensayo, es un concepto que existe en Git, su intención es adaptarse a escenarios en las que por ejemplo, en un _commit_ se desea capturar el estado de un archivo y en otro _commit_ la de una hoja de estilos muy aparte a la anterior. Es decir, un escenario en la que permite al usuario especificar qué modificaciones deben incluirse en el siguiente _snapshot_ a través del mecanismo llamado \"área de preparación\"."
   ]
  },
  {
   "cell_type": "markdown",
   "metadata": {},
   "source": [
    "#### Conclusiones personales sobre Git"
   ]
  },
  {
   "cell_type": "markdown",
   "metadata": {},
   "source": [
    "* Git es una herramienta poderosa para llevar la historia de un proyecto organizado en carpetas.\n",
    "* Git como tal, es una herramienta que permite el trabajo de manera remota y en equipo, en especial, cuando existe un contexto como el de ahora (la pandemia) que permite la reunión del trabajo físicamente.\n",
    "* El hecho de centralizar el proyecto en un repositorio facilita el desarrollo de sistemas bajo un entorno de DevOps.\n",
    "* Para poner en producción un sistema en un VPS, clonar un repositorio de Git, facilita las cosas en gran medida.\n",
    "* Sucede muchas veces cuando uno trabaja en un proyecto y tiene que pasar de una versión v1.0.0 a v2.0.0, con los _snapshots_ y la creación de referencias de versionamiento en Git, hace posible poder rastrear por ejemplo la versión de la estructura inicial, la versión Beta y la versión Final."
   ]
  },
  {
   "cell_type": "markdown",
   "metadata": {},
   "source": [
    "#### Ejemplificación de código de Git para subir el proyecto a GitHub"
   ]
  },
  {
   "cell_type": "code",
   "execution_count": 4,
   "metadata": {},
   "outputs": [
    {
     "data": {
      "text/plain": [
       "['Initialized empty Git repository in C:/Users/hdtah/Documents/Master in Data Science/Data science in python/laboratio-1/.git/']"
      ]
     },
     "execution_count": 4,
     "metadata": {},
     "output_type": "execute_result"
    }
   ],
   "source": [
    "%%!\n",
    "git init"
   ]
  },
  {
   "cell_type": "markdown",
   "metadata": {},
   "source": [
    "``` git init ```, este comando es el que se utiliza para inicializar e indicar que el directorio actual será el _snapshot_ principal."
   ]
  },
  {
   "cell_type": "code",
   "execution_count": 5,
   "metadata": {},
   "outputs": [
    {
     "data": {
      "text/plain": [
       "['warning: LF will be replaced by CRLF in .ipynb_checkpoints/lab-1-checkpoint.ipynb.',\n",
       " 'The file will have its original line endings in your working directory',\n",
       " 'warning: LF will be replaced by CRLF in lab-1.ipynb.',\n",
       " 'The file will have its original line endings in your working directory']"
      ]
     },
     "execution_count": 5,
     "metadata": {},
     "output_type": "execute_result"
    }
   ],
   "source": [
    "%%!\n",
    "git add ."
   ]
  },
  {
   "cell_type": "markdown",
   "metadata": {},
   "source": [
    "```git add .```, este comando indica que queremos agregar todos los _blobs_ o _files_ que se encuentra en nuestro directorio, en caso que no necesitemos subir ciertos archivos tendremos que agregar a nivel de raíz superior un archivo llamado \".gitignore\" donde se indica que directorios o archivos no queremos que los tome en cuenta en los _snapshots_ y en el seguimiento de la historia."
   ]
  },
  {
   "cell_type": "code",
   "execution_count": 6,
   "metadata": {},
   "outputs": [
    {
     "data": {
      "text/plain": [
       "['On branch master',\n",
       " '',\n",
       " 'No commits yet',\n",
       " '',\n",
       " 'Changes to be committed:',\n",
       " '  (use \"git rm --cached <file>...\" to unstage)',\n",
       " '\\tnew file:   .ipynb_checkpoints/lab-1-checkpoint.ipynb',\n",
       " '\\tnew file:   lab-1.ipynb',\n",
       " '',\n",
       " 'Changes not staged for commit:',\n",
       " '  (use \"git add <file>...\" to update what will be committed)',\n",
       " '  (use \"git restore <file>...\" to discard changes in working directory)',\n",
       " '\\tmodified:   lab-1.ipynb',\n",
       " '']"
      ]
     },
     "execution_count": 6,
     "metadata": {},
     "output_type": "execute_result"
    }
   ],
   "source": [
    "%%!\n",
    "git status"
   ]
  },
  {
   "cell_type": "markdown",
   "metadata": {},
   "source": [
    "```git status```, este comando permite visualizar el _snapshot_ antes de realizar un _commit_, es el área de preparación o ensayo, donde podemos determinar si en el _commit_ próximo todos los objetos o todos los objetos estarán en el mismo."
   ]
  },
  {
   "cell_type": "code",
   "execution_count": 7,
   "metadata": {},
   "outputs": [
    {
     "data": {
      "text/plain": [
       "['[master (root-commit) 131b6a9] the first commit, initialized git',\n",
       " ' 2 files changed, 418 insertions(+)',\n",
       " ' create mode 100644 .ipynb_checkpoints/lab-1-checkpoint.ipynb',\n",
       " ' create mode 100644 lab-1.ipynb']"
      ]
     },
     "execution_count": 7,
     "metadata": {},
     "output_type": "execute_result"
    }
   ],
   "source": [
    "%%!\n",
    "git commit -m \"the first commit, initialized git\""
   ]
  },
  {
   "cell_type": "markdown",
   "metadata": {},
   "source": [
    "```git commit -m \"text\"```, este comando es el que indica que los objetos que estaban en el área de preparación pasarán a ser el _commit_ principal o posterior a los demás, se adjunta un texto que será la __referencia__ para ubicarlo en la historia."
   ]
  },
  {
   "cell_type": "code",
   "execution_count": 9,
   "metadata": {},
   "outputs": [
    {
     "data": {
      "text/plain": [
       "[]"
      ]
     },
     "execution_count": 9,
     "metadata": {},
     "output_type": "execute_result"
    }
   ],
   "source": [
    "%%!\n",
    "git remote add origin https://github.com/hdtahay99/jupyter-git-markdown.git"
   ]
  },
  {
   "cell_type": "markdown",
   "metadata": {},
   "source": [
    "```git remote add origin URL_REPOSITORY```, este comando sirve para conectar e indicarle al a git que nuestro repositorio local será cargado a un repositorio en la nube, por la plataforma GitHub."
   ]
  },
  {
   "cell_type": "code",
   "execution_count": 13,
   "metadata": {},
   "outputs": [
    {
     "data": {
      "text/plain": [
       "['To https://github.com/hdtahay99/jupyter-git-markdown.git',\n",
       " ' * [new branch]      master -> master']"
      ]
     },
     "execution_count": 13,
     "metadata": {},
     "output_type": "execute_result"
    }
   ],
   "source": [
    "%%!\n",
    "git push origin master"
   ]
  },
  {
   "cell_type": "markdown",
   "metadata": {},
   "source": [
    "```git push origin branch```, este comando es el que hace posible cargar el repositorio local al que se indicó en el comando anterior, de tal forma el repositorio en GitHub tendrá una copia de nuestro repositorio local. Por lo general hay que indicarle el nombre de la __rama__, en este caso es __master__."
   ]
  },
  {
   "cell_type": "code",
   "execution_count": 14,
   "metadata": {},
   "outputs": [
    {
     "data": {
      "text/plain": [
       "['warning: LF will be replaced by CRLF in .ipynb_checkpoints/lab-1-checkpoint.ipynb.',\n",
       " 'The file will have its original line endings in your working directory',\n",
       " 'warning: LF will be replaced by CRLF in lab-1.ipynb.',\n",
       " 'The file will have its original line endings in your working directory',\n",
       " 'warning: LF will be replaced by CRLF in .ipynb_checkpoints/README-checkpoint.md.',\n",
       " 'The file will have its original line endings in your working directory',\n",
       " 'warning: LF will be replaced by CRLF in README.md.',\n",
       " 'The file will have its original line endings in your working directory']"
      ]
     },
     "execution_count": 14,
     "metadata": {},
     "output_type": "execute_result"
    }
   ],
   "source": [
    "%%!\n",
    "git add ."
   ]
  },
  {
   "cell_type": "code",
   "execution_count": 15,
   "metadata": {},
   "outputs": [
    {
     "data": {
      "text/plain": [
       "['[master 263a997] added the README file',\n",
       " ' 4 files changed, 297 insertions(+)',\n",
       " ' create mode 100644 .ipynb_checkpoints/README-checkpoint.md',\n",
       " ' create mode 100644 README.md']"
      ]
     },
     "execution_count": 15,
     "metadata": {},
     "output_type": "execute_result"
    }
   ],
   "source": [
    "%%! \n",
    "git commit -am \"added the README file\""
   ]
  },
  {
   "cell_type": "code",
   "execution_count": 17,
   "metadata": {},
   "outputs": [
    {
     "data": {
      "text/plain": [
       "['To https://github.com/hdtahay99/jupyter-git-markdown.git',\n",
       " '   131b6a9..263a997  master -> master']"
      ]
     },
     "execution_count": 17,
     "metadata": {},
     "output_type": "execute_result"
    }
   ],
   "source": [
    "%%!\n",
    "git push origin master"
   ]
  },
  {
   "cell_type": "markdown",
   "metadata": {},
   "source": [
    "```git push origin master```, es un comando que se utiliza para cargar al repositorio de GitHub los nuevos _snapshots_ del repositorio local, sin embargo para evitar escribir \"origin master\" cada vez, se puede utilizar el siguiente comando."
   ]
  },
  {
   "cell_type": "code",
   "execution_count": 18,
   "metadata": {},
   "outputs": [
    {
     "data": {
      "text/plain": [
       "[]"
      ]
     },
     "execution_count": 18,
     "metadata": {},
     "output_type": "execute_result"
    }
   ],
   "source": [
    "%%!\n",
    "git config push.default current"
   ]
  },
  {
   "cell_type": "markdown",
   "metadata": {},
   "source": [
    "Lo anterior establece que las nuevas cargas, serán por defecto a la rama _master_ de nuestro repositorio remoto."
   ]
  },
  {
   "cell_type": "code",
   "execution_count": 19,
   "metadata": {},
   "outputs": [
    {
     "data": {
      "text/plain": [
       "['warning: LF will be replaced by CRLF in lab-1.ipynb.',\n",
       " 'The file will have its original line endings in your working directory',\n",
       " '[master 049740c] new changes',\n",
       " ' 1 file changed, 106 insertions(+), 4 deletions(-)']"
      ]
     },
     "execution_count": 19,
     "metadata": {},
     "output_type": "execute_result"
    }
   ],
   "source": [
    "%%!\n",
    "git commit -am \"new changes\""
   ]
  },
  {
   "cell_type": "code",
   "execution_count": 20,
   "metadata": {},
   "outputs": [
    {
     "data": {
      "text/plain": [
       "['To https://github.com/hdtahay99/jupyter-git-markdown.git',\n",
       " '   263a997..049740c  master -> master']"
      ]
     },
     "execution_count": 20,
     "metadata": {},
     "output_type": "execute_result"
    }
   ],
   "source": [
    "%%!\n",
    "git push"
   ]
  },
  {
   "cell_type": "markdown",
   "metadata": {},
   "source": [
    "En caso que necesitemos actualizar nuestro repositorio local de los cambios de alguien que haya colaborado, se puede utilizar ```git pull```"
   ]
  }
 ],
 "metadata": {
  "kernelspec": {
   "display_name": "Python 3",
   "language": "python",
   "name": "python3"
  },
  "language_info": {
   "codemirror_mode": {
    "name": "ipython",
    "version": 3
   },
   "file_extension": ".py",
   "mimetype": "text/x-python",
   "name": "python",
   "nbconvert_exporter": "python",
   "pygments_lexer": "ipython3",
   "version": "3.8.5"
  }
 },
 "nbformat": 4,
 "nbformat_minor": 4
}
